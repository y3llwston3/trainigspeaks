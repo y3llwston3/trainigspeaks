{
 "cells": [
  {
   "cell_type": "code",
   "execution_count": null,
   "id": "903b36e4-16f0-40df-b3dc-86321eb9cd5a",
   "metadata": {},
   "outputs": [],
   "source": []
  },
  {
   "cell_type": "code",
   "execution_count": null,
   "id": "00cb3700-e189-4ac1-85b6-758c88c368d6",
   "metadata": {},
   "outputs": [],
   "source": []
  },
  {
   "cell_type": "code",
   "execution_count": null,
   "id": "6e5fb003-ca32-4bb2-872e-1b8f7b79be25",
   "metadata": {},
   "outputs": [],
   "source": []
  },
  {
   "cell_type": "code",
   "execution_count": null,
   "id": "ca0a1157-4a4c-455c-825d-9344089024cf",
   "metadata": {},
   "outputs": [],
   "source": []
  },
  {
   "cell_type": "code",
   "execution_count": null,
   "id": "47829e5d-017f-477e-8eb5-9d17ead91631",
   "metadata": {},
   "outputs": [],
   "source": [
    "# Read the CSV file\n",
    "ds = pd.read_csv('/Users/apple/Documents/Jupyter/own project/Lukas trainigspeaks/workouts.csv')\n",
    "\n",
    "# Filter out the rows that contain 'bike' in 'workout type' column\n",
    "ds = df[~df['WorkoutType'].str.contains('Bike')].reset_index(drop=True)\n",
    "\n",
    "# Save the filtered dataframe to a new CSV file\n",
    "ds.to_csv('filtered_file_bikr.csv', index=False)"
   ]
  }
 ],
 "metadata": {
  "kernelspec": {
   "display_name": "Python 3 (ipykernel)",
   "language": "python",
   "name": "python3"
  },
  "language_info": {
   "codemirror_mode": {
    "name": "ipython",
    "version": 3
   },
   "file_extension": ".py",
   "mimetype": "text/x-python",
   "name": "python",
   "nbconvert_exporter": "python",
   "pygments_lexer": "ipython3",
   "version": "3.10.9"
  }
 },
 "nbformat": 4,
 "nbformat_minor": 5
}
